{
 "cells": [
  {
   "cell_type": "code",
   "execution_count": 7,
   "id": "29787ee7",
   "metadata": {},
   "outputs": [],
   "source": [
    "import pyodbc as db\n",
    "# Some other example server values are\n",
    "# server = 'localhost\\sqlexpress' # for a named instance\n",
    "# server = 'myserver,port' # to specify an alternate port\n",
    "server = 'localhost' \n",
    "database = 'CSEDB' \n",
    "username = 'sa' \n",
    "password = '123' \n",
    "cnxn = pyodbc.connect('DRIVER={ODBC Driver 17 for SQL Server};SERVER='+server+';DATABASE='+database+';UID='+username+';PWD='+ password)\n",
    "cnxn.setdecoding(db.SQL_CHAR, encoding='latin1')\n",
    "cnxn.setencoding('latin1')\n",
    "cursor = cnxn.cursor()\n"
   ]
  },
  {
   "cell_type": "code",
   "execution_count": 8,
   "id": "3a5e924d",
   "metadata": {},
   "outputs": [
    {
     "name": "stdout",
     "output_type": "stream",
     "text": [
      "Microsoft SQL Server 2019 (RTM) - 15.0.2000.5 (X64) \n",
      "\tSep 24 2019 13:48:23 \n",
      "\tCopyright (C) 2019 Microsoft Corporation\n",
      "\tDeveloper Edition (64-bit) on Windows 10 Pro 10.0 <X64> (Build 19042: )\n",
      "\n"
     ]
    }
   ],
   "source": [
    "cursor.execute(\"SELECT @@version;\") \n",
    "row = cursor.fetchone() \n",
    "while row: \n",
    "    print(row[0])\n",
    "    row = cursor.fetchone()"
   ]
  },
  {
   "cell_type": "code",
   "execution_count": 11,
   "id": "a49d9423",
   "metadata": {},
   "outputs": [
    {
     "name": "stdout",
     "output_type": "stream",
     "text": [
      "Rows inserted: 1\n"
     ]
    }
   ],
   "source": [
    "count = cursor.execute(\"\"\"\n",
    "INSERT INTO Person (name) \n",
    "VALUES (?)\"\"\",\n",
    "'SQL').rowcount\n",
    "cnxn.commit()\n",
    "print('Rows inserted: ' + str(count))"
   ]
  },
  {
   "cell_type": "code",
   "execution_count": null,
   "id": "1d352343",
   "metadata": {},
   "outputs": [],
   "source": []
  }
 ],
 "metadata": {
  "kernelspec": {
   "display_name": "Python 3 (ipykernel)",
   "language": "python",
   "name": "python3"
  },
  "language_info": {
   "codemirror_mode": {
    "name": "ipython",
    "version": 3
   },
   "file_extension": ".py",
   "mimetype": "text/x-python",
   "name": "python",
   "nbconvert_exporter": "python",
   "pygments_lexer": "ipython3",
   "version": "3.9.7"
  }
 },
 "nbformat": 4,
 "nbformat_minor": 5
}
